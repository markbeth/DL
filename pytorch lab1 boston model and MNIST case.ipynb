{
 "cells": [
  {
   "cell_type": "code",
   "execution_count": 1,
   "metadata": {},
   "outputs": [],
   "source": [
    "import matplotlib.pyplot as plt\n",
    "import numpy as np\n",
    "import torch\n",
    "import torch.nn.functional as F\n",
    "import torchvision\n",
    "\n",
    "from sklearn.datasets import load_boston\n",
    "from torch import nn \n",
    "from tqdm.notebook import tqdm\n",
    "\n",
    "%matplotlib inline"
   ]
  },
  {
   "cell_type": "code",
   "execution_count": 2,
   "metadata": {},
   "outputs": [
    {
     "data": {
      "text/plain": [
       "array([[0.71279821, 0.8221913 , 0.89366234],\n",
       "       [0.88702051, 0.94439262, 0.20843262],\n",
       "       [0.72448048, 0.39826559, 0.87620005],\n",
       "       [0.96615356, 0.70131835, 0.77003771],\n",
       "       [0.33997977, 0.59034438, 0.6698747 ]])"
      ]
     },
     "execution_count": 2,
     "metadata": {},
     "output_type": "execute_result"
    }
   ],
   "source": [
    "# random matrix\n",
    "a = np.random.rand(5, 3)\n",
    "a"
   ]
  },
  {
   "cell_type": "code",
   "execution_count": 3,
   "metadata": {},
   "outputs": [
    {
     "name": "stdout",
     "output_type": "stream",
     "text": [
      "Размеры: (5, 3)\n"
     ]
    }
   ],
   "source": [
    "print(f\"Размеры: {a.shape}\")"
   ]
  },
  {
   "cell_type": "code",
   "execution_count": 4,
   "metadata": {},
   "outputs": [
    {
     "name": "stdout",
     "output_type": "stream",
     "text": [
      "Добавили 5:\n",
      "[[5.71279821 5.8221913  5.89366234]\n",
      " [5.88702051 5.94439262 5.20843262]\n",
      " [5.72448048 5.39826559 5.87620005]\n",
      " [5.96615356 5.70131835 5.77003771]\n",
      " [5.33997977 5.59034438 5.6698747 ]]\n"
     ]
    }
   ],
   "source": [
    "print(f\"Добавили 5:\\n{a + 5}\")"
   ]
  },
  {
   "cell_type": "code",
   "execution_count": 5,
   "metadata": {},
   "outputs": [
    {
     "name": "stdout",
     "output_type": "stream",
     "text": [
      "Посчитали произведение Х Х^T:\n",
      "[[1.9827122  1.59500641 1.62688588 1.95344408 1.32635477]\n",
      " [1.59500641 1.72212695 1.2013768  1.67981887 0.99870964]\n",
      " [1.62688588 1.2013768  1.45121398 1.65397744 1.0683668 ]\n",
      " [1.95344408 1.67981887 1.65397744 2.0182582  1.25832079]\n",
      " [1.32635477 0.99870964 1.0683668  1.25832079 0.91282484]]\n"
     ]
    }
   ],
   "source": [
    "print(f\"Посчитали произведение Х Х^T:\\n{a @ a.T}\")"
   ]
  },
  {
   "cell_type": "code",
   "execution_count": 6,
   "metadata": {},
   "outputs": [
    {
     "name": "stdout",
     "output_type": "stream",
     "text": [
      "Среднее по колонкам:\n",
      "[0.80955062 0.67994858 0.66631537 0.81250321 0.53339962]\n"
     ]
    }
   ],
   "source": [
    "print(f\"Среднее по колонкам:\\n{a.mean(axis=-1)}\")"
   ]
  },
  {
   "cell_type": "code",
   "execution_count": 7,
   "metadata": {},
   "outputs": [
    {
     "name": "stdout",
     "output_type": "stream",
     "text": [
      "Изменили размеры: (3, 5)\n"
     ]
    }
   ],
   "source": [
    "print(f\"Изменили размеры: {a.reshape(3, 5).shape}\")"
   ]
  },
  {
   "cell_type": "markdown",
   "metadata": {},
   "source": [
    "**Задание**\n",
    "\n",
    "При помощи Numpy посчитайте сумму квадратов натуральных чисел от 1 до 1000."
   ]
  },
  {
   "cell_type": "code",
   "execution_count": 8,
   "metadata": {},
   "outputs": [
    {
     "data": {
      "text/plain": [
       "333383335000"
      ]
     },
     "execution_count": 8,
     "metadata": {},
     "output_type": "execute_result"
    }
   ],
   "source": [
    "x = np.arange(1, 10_001) #от 1 до 10000 чтобы включительно 10011 + заметим что добавили _ чтобы глазам было легче воспринимать число, на само число не влияет \n",
    "np.sum(x * x) "
   ]
  },
  {
   "cell_type": "markdown",
   "metadata": {},
   "source": [
    "Аналогичные операции в PyTorch выглядят следующим образом, синтаксис отличается, но не сильно:"
   ]
  },
  {
   "cell_type": "code",
   "execution_count": 9,
   "metadata": {},
   "outputs": [
    {
     "data": {
      "text/plain": [
       "tensor([[0.3708, 0.1277, 0.5063],\n",
       "        [0.6971, 0.4951, 0.8587],\n",
       "        [0.4790, 0.7931, 0.0970],\n",
       "        [0.9950, 0.7776, 0.7498],\n",
       "        [0.0972, 0.5964, 0.3516]])"
      ]
     },
     "execution_count": 9,
     "metadata": {},
     "output_type": "execute_result"
    }
   ],
   "source": [
    "x = torch.rand(5, 3)\n",
    "x"
   ]
  },
  {
   "cell_type": "code",
   "execution_count": 10,
   "metadata": {},
   "outputs": [
    {
     "name": "stdout",
     "output_type": "stream",
     "text": [
      "Размеры: torch.Size([5, 3])\n"
     ]
    }
   ],
   "source": [
    "print(f\"Размеры: {x.shape}\")"
   ]
  },
  {
   "cell_type": "code",
   "execution_count": 11,
   "metadata": {},
   "outputs": [
    {
     "name": "stdout",
     "output_type": "stream",
     "text": [
      "Добавили 5:\n",
      "tensor([[5.3708, 5.1277, 5.5063],\n",
      "        [5.6971, 5.4951, 5.8587],\n",
      "        [5.4790, 5.7931, 5.0970],\n",
      "        [5.9950, 5.7776, 5.7498],\n",
      "        [5.0972, 5.5964, 5.3516]])\n"
     ]
    }
   ],
   "source": [
    "print(f\"Добавили 5:\\n{x +5}\")"
   ]
  },
  {
   "cell_type": "code",
   "execution_count": 12,
   "metadata": {},
   "outputs": [
    {
     "name": "stdout",
     "output_type": "stream",
     "text": [
      "X X^T (1):\n",
      "tensor([[0.4101, 0.7565, 0.3280, 0.8478, 0.2902],\n",
      "        [0.7565, 1.4685, 0.8099, 1.7224, 0.6650],\n",
      "        [0.3280, 0.8099, 0.8679, 1.1660, 0.5537],\n",
      "        [0.8478, 1.7224, 1.1660, 2.1568, 0.8241],\n",
      "        [0.2902, 0.6650, 0.5537, 0.8241, 0.4887]])\n",
      "\n",
      "X X^T (2):\n",
      "tensor([[0.4101, 0.7565, 0.3280, 0.8478, 0.2902],\n",
      "        [0.7565, 1.4685, 0.8099, 1.7224, 0.6650],\n",
      "        [0.3280, 0.8099, 0.8679, 1.1660, 0.5537],\n",
      "        [0.8478, 1.7224, 1.1660, 2.1568, 0.8241],\n",
      "        [0.2902, 0.6650, 0.5537, 0.8241, 0.4887]])\n"
     ]
    }
   ],
   "source": [
    "#для перемножения тензоров высокой размерности читайте документацию по различным вариантам:\n",
    "#torch.mm, torch.matmul, torch.bmm, @\n",
    "print(f\"X X^T (1):\\n{torch.matmul(x, x.transpose(1, 0))}\\n\")\n",
    "print(f\"X X^T (2):\\n{x.mm(x.t())}\")"
   ]
  },
  {
   "cell_type": "code",
   "execution_count": 13,
   "metadata": {},
   "outputs": [
    {
     "name": "stdout",
     "output_type": "stream",
     "text": [
      "Среднее по колонкам:\n",
      "tensor([0.3349, 0.6836, 0.4564, 0.8408, 0.3484])\n"
     ]
    }
   ],
   "source": [
    "print(f\"Среднее по колонкам:\\n{x.mean(dim=-1)}\")"
   ]
  },
  {
   "cell_type": "code",
   "execution_count": 14,
   "metadata": {},
   "outputs": [
    {
     "name": "stdout",
     "output_type": "stream",
     "text": [
      "Изменили размеры:\n",
      "torch.Size([3, 5])\n",
      "\n",
      "По-другому изменили размеры:\n",
      "torch.Size([3, 5])\n",
      "\n",
      "Но не транспонировали!\n",
      "tensor([[ True, False, False, False, False],\n",
      "        [False, False,  True, False, False],\n",
      "        [False, False, False, False,  True]])\n"
     ]
    }
   ],
   "source": [
    "print(f\"Изменили размеры:\\n{x.view([3, 5]).shape}\\n\") #размерности [3,5] должны соответсвовать кол-ву элементов в этом случае максимум [15,1]\n",
    "\n",
    "#будьте внимательны и не используйте view для транспонирования осей\n",
    "print(f\"По-другому изменили размеры:\\n{x.view_as(x.t()).shape}\\n\")\n",
    "print(f\"Но не транспонировали!\\n{x.view_as(x.t()) == x.t()}\")"
   ]
  },
  {
   "cell_type": "markdown",
   "metadata": {},
   "source": [
    "**Пример, того как меняются операции в Pytorch отличие от Numpy**\n",
    "\n",
    "- x.reshape([1,2,8]) --> x.view(1,2,8)\n",
    "- x.sum(axis=-1)  -->  x.sum(dim=-1)\n",
    "- x.astype(\"int64\") -->  x.type(torch.LongTensor)\n",
    "\n",
    "для помощи в изучении есть таблица, которая помогает найти аналог операции в numpy"
   ]
  },
  {
   "cell_type": "markdown",
   "metadata": {},
   "source": [
    "**Задача на pytorch**\n",
    "\n",
    "Посчитайте сумму квадратов натуральных чисел от 1 до 10 000"
   ]
  },
  {
   "cell_type": "code",
   "execution_count": 15,
   "metadata": {},
   "outputs": [
    {
     "data": {
      "text/plain": [
       "333383335000"
      ]
     },
     "execution_count": 15,
     "metadata": {},
     "output_type": "execute_result"
    }
   ],
   "source": [
    "# решение\n",
    "a = torch.arange(1, 10_001)\n",
    "\n",
    "torch.sum(a * a).item()"
   ]
  },
  {
   "cell_type": "markdown",
   "metadata": {},
   "source": [
    "**Создаем тензоры в Pytorch и снова изучаем базовые операции**\n"
   ]
  },
  {
   "cell_type": "code",
   "execution_count": 16,
   "metadata": {},
   "outputs": [
    {
     "name": "stdout",
     "output_type": "stream",
     "text": [
      "tensor([[0.0000e+00, 1.4013e-45, 0.0000e+00],\n",
      "        [0.0000e+00, 0.0000e+00, 0.0000e+00],\n",
      "        [0.0000e+00, 0.0000e+00, 0.0000e+00],\n",
      "        [1.1704e-41, 0.0000e+00, 2.2369e+08],\n",
      "        [0.0000e+00, 0.0000e+00, 0.0000e+00]])\n"
     ]
    }
   ],
   "source": [
    "x = torch.empty(5, 3) #пустой тензор\n",
    "print(x)"
   ]
  },
  {
   "cell_type": "code",
   "execution_count": 17,
   "metadata": {},
   "outputs": [
    {
     "name": "stdout",
     "output_type": "stream",
     "text": [
      "tensor([[0.5603, 0.7184, 0.3347],\n",
      "        [0.4175, 0.5075, 0.0997],\n",
      "        [0.8651, 0.9067, 0.7250],\n",
      "        [0.1501, 0.5917, 0.3840],\n",
      "        [0.8131, 0.1799, 0.1061]])\n"
     ]
    }
   ],
   "source": [
    "x = torch.rand(5, 3) #случайный тензор\n",
    "print(x)"
   ]
  },
  {
   "cell_type": "code",
   "execution_count": 18,
   "metadata": {},
   "outputs": [
    {
     "name": "stdout",
     "output_type": "stream",
     "text": [
      "tensor([[0., 0., 0.],\n",
      "        [0., 0., 0.],\n",
      "        [0., 0., 0.],\n",
      "        [0., 0., 0.],\n",
      "        [0., 0., 0.]])\n"
     ]
    }
   ],
   "source": [
    "x = torch.zeros(5, 3, dtype=torch.float32) #тензор с нулями и указанием типов чисел\n",
    "print(x)"
   ]
  },
  {
   "cell_type": "code",
   "execution_count": 19,
   "metadata": {},
   "outputs": [
    {
     "name": "stdout",
     "output_type": "stream",
     "text": [
      "tensor([5.5000, 3.0000])\n"
     ]
    }
   ],
   "source": [
    "x = torch.tensor([5.5, 3])  # конструируем тензор из питоновского листа\n",
    "print(x)"
   ]
  },
  {
   "cell_type": "code",
   "execution_count": 20,
   "metadata": {},
   "outputs": [
    {
     "name": "stdout",
     "output_type": "stream",
     "text": [
      "tensor([5.5000, 3.0000], dtype=torch.float64)\n"
     ]
    }
   ],
   "source": [
    "x = torch.tensor(np.array([5.5, 3]))  #можно торч тензор из нампая - передать нампай арей \n",
    "print(x)"
   ]
  },
  {
   "cell_type": "code",
   "execution_count": 21,
   "metadata": {},
   "outputs": [
    {
     "name": "stdout",
     "output_type": "stream",
     "text": [
      "tensor([[1., 1., 1.],\n",
      "        [1., 1., 1.],\n",
      "        [1., 1., 1.],\n",
      "        [1., 1., 1.],\n",
      "        [1., 1., 1.]], dtype=torch.float64) <built-in method size of Tensor object at 0x1086fbea0>\n"
     ]
    }
   ],
   "source": [
    "x1 = x.new_ones(5, 3, dtype=torch.double)  # используем уже созданный тензор для создания тензора из единичек\n",
    "print(x1, x1.size)"
   ]
  },
  {
   "cell_type": "code",
   "execution_count": 22,
   "metadata": {},
   "outputs": [
    {
     "name": "stdout",
     "output_type": "stream",
     "text": [
      "tensor([[-0.1679,  0.1805,  0.5862],\n",
      "        [ 0.7296,  0.3347,  0.1400],\n",
      "        [ 0.7409, -1.0386,  0.5043],\n",
      "        [ 1.0535, -0.1610, -0.0789],\n",
      "        [ 0.4514, -1.0024, -2.0118]]) torch.Size([5, 3])\n"
     ]
    }
   ],
   "source": [
    "x = torch.randn_like(x1, dtype=torch.float)  # создаем случайный тензор с размерами х\n",
    "print(x, x.size())"
   ]
  },
  {
   "cell_type": "code",
   "execution_count": 23,
   "metadata": {},
   "outputs": [
    {
     "name": "stdout",
     "output_type": "stream",
     "text": [
      "tensor([[ 0.3629,  1.1336,  0.6924],\n",
      "        [ 1.2505,  1.2357,  0.2368],\n",
      "        [ 0.8133, -0.7886,  0.9618],\n",
      "        [ 1.4155,  0.5531,  0.1125],\n",
      "        [ 0.9473, -0.3616, -1.0328]])\n"
     ]
    }
   ],
   "source": [
    "y = torch.rand(5, 3)\n",
    "print(x +y)  #операция сложения по элементно"
   ]
  },
  {
   "cell_type": "code",
   "execution_count": 24,
   "metadata": {},
   "outputs": [
    {
     "name": "stdout",
     "output_type": "stream",
     "text": [
      "tensor([[ 0.3629,  1.1336,  0.6924],\n",
      "        [ 1.2505,  1.2357,  0.2368],\n",
      "        [ 0.8133, -0.7886,  0.9618],\n",
      "        [ 1.4155,  0.5531,  0.1125],\n",
      "        [ 0.9473, -0.3616, -1.0328]])\n"
     ]
    }
   ],
   "source": [
    "z = torch.add(x, y)  #очередная операция сложения\n",
    "print(z)"
   ]
  },
  {
   "cell_type": "code",
   "execution_count": 25,
   "metadata": {},
   "outputs": [
    {
     "name": "stdout",
     "output_type": "stream",
     "text": [
      "tensor([[ 0.3629,  1.1336,  0.6924],\n",
      "        [ 1.2505,  1.2357,  0.2368],\n",
      "        [ 0.8133, -0.7886,  0.9618],\n",
      "        [ 1.4155,  0.5531,  0.1125],\n",
      "        [ 0.9473, -0.3616, -1.0328]])\n"
     ]
    }
   ],
   "source": [
    "torch.add(x, y, out=z)  #и наконец последний вид эквивалент записи z = torch.add(x, y)\n",
    "print(z)"
   ]
  },
  {
   "cell_type": "code",
   "execution_count": 26,
   "metadata": {},
   "outputs": [
    {
     "name": "stdout",
     "output_type": "stream",
     "text": [
      "tensor([[-0.0891,  0.1720,  0.0622],\n",
      "        [ 0.3801,  0.3016,  0.0135],\n",
      "        [ 0.0536, -0.2597,  0.2307],\n",
      "        [ 0.3813, -0.1150, -0.0151],\n",
      "        [ 0.2239, -0.6423, -1.9696]])\n"
     ]
    }
   ],
   "source": [
    "print(x * y)  #поэлементное умножение"
   ]
  },
  {
   "cell_type": "code",
   "execution_count": 27,
   "metadata": {},
   "outputs": [
    {
     "name": "stdout",
     "output_type": "stream",
     "text": [
      "tensor([[ 1.4513e-01,  1.3185e-01,  3.0118e-01,  1.8028e-01,  6.0631e-01],\n",
      "        [ 7.2121e-01,  6.9521e-01,  2.0053e-01,  5.2994e-01,  7.1342e-01],\n",
      "        [-5.4317e-01, -5.0106e-01,  2.4615e-02, -3.7699e-01,  1.9561e-01],\n",
      "        [ 3.9736e-01,  3.9609e-01, -1.3488e-04,  2.5128e-01,  3.4208e-01],\n",
      "        [-9.2940e-01, -8.6261e-01, -1.1384e+00, -9.3739e-01, -2.3880e+00]])\n"
     ]
    }
   ],
   "source": [
    "print(x @ y.t())    #матричное умножение"
   ]
  },
  {
   "cell_type": "code",
   "execution_count": 28,
   "metadata": {},
   "outputs": [
    {
     "name": "stdout",
     "output_type": "stream",
     "text": [
      "tensor([[ 1.4513e-01,  1.3185e-01,  3.0118e-01,  1.8028e-01,  6.0631e-01],\n",
      "        [ 7.2121e-01,  6.9521e-01,  2.0053e-01,  5.2994e-01,  7.1342e-01],\n",
      "        [-5.4317e-01, -5.0106e-01,  2.4615e-02, -3.7699e-01,  1.9561e-01],\n",
      "        [ 3.9736e-01,  3.9609e-01, -1.3488e-04,  2.5128e-01,  3.4208e-01],\n",
      "        [-9.2940e-01, -8.6261e-01, -1.1384e+00, -9.3739e-01, -2.3880e+00]])\n"
     ]
    }
   ],
   "source": [
    "print(x.mm(y.t()))  # опять матричное умножение"
   ]
  },
  {
   "cell_type": "code",
   "execution_count": 29,
   "metadata": {},
   "outputs": [
    {
     "name": "stdout",
     "output_type": "stream",
     "text": [
      "torch.Size([1, 5, 3])\n"
     ]
    }
   ],
   "source": [
    "print(x.unsqueeze(0).shape)    #добавили измерение в начало, аналог броадкастинга"
   ]
  },
  {
   "cell_type": "code",
   "execution_count": 30,
   "metadata": {},
   "outputs": [
    {
     "name": "stdout",
     "output_type": "stream",
     "text": [
      "torch.Size([5, 3])\n"
     ]
    }
   ],
   "source": [
    "print(x.unsqueeze(0).unsqueeze(1).squeeze().shape)  #убрали измерение в начале"
   ]
  },
  {
   "cell_type": "markdown",
   "metadata": {},
   "source": [
    "Также можно делать обычные срезы и переводить матрицы назад в Numpy:"
   ]
  },
  {
   "cell_type": "code",
   "execution_count": 31,
   "metadata": {},
   "outputs": [
    {
     "name": "stdout",
     "output_type": "stream",
     "text": [
      "True\n",
      "True\n"
     ]
    }
   ],
   "source": [
    "a = np.ones((3, 5))\n",
    "x = torch.ones((3, 5))\n",
    "print(np.allclose(x.numpy(), a))\n",
    "print(np.allclose(x.numpy()[:, 1], a[:, 1]))"
   ]
  },
  {
   "cell_type": "markdown",
   "metadata": {},
   "source": [
    "**Работаем с градиентами руками**"
   ]
  },
  {
   "cell_type": "code",
   "execution_count": 32,
   "metadata": {},
   "outputs": [
    {
     "name": "stderr",
     "output_type": "stream",
     "text": [
      "/Users/anastasiadruzyanova/opt/miniconda3/lib/python3.9/site-packages/sklearn/utils/deprecation.py:87: FutureWarning: Function load_boston is deprecated; `load_boston` is deprecated in 1.0 and will be removed in 1.2.\n",
      "\n",
      "    The Boston housing prices dataset has an ethical problem. You can refer to\n",
      "    the documentation of this function for further details.\n",
      "\n",
      "    The scikit-learn maintainers therefore strongly discourage the use of this\n",
      "    dataset unless the purpose of the code is to study and educate about\n",
      "    ethical issues in data science and machine learning.\n",
      "\n",
      "    In this special case, you can fetch the dataset from the original\n",
      "    source::\n",
      "\n",
      "        import pandas as pd\n",
      "        import numpy as np\n",
      "\n",
      "        data_url = \"http://lib.stat.cmu.edu/datasets/boston\"\n",
      "        raw_df = pd.read_csv(data_url, sep=\"\\s+\", skiprows=22, header=None)\n",
      "        data = np.hstack([raw_df.values[::2, :], raw_df.values[1::2, :2]])\n",
      "        target = raw_df.values[1::2, 2]\n",
      "\n",
      "    Alternative datasets include the California housing dataset (i.e.\n",
      "    :func:`~sklearn.datasets.fetch_california_housing`) and the Ames housing\n",
      "    dataset. You can load the datasets as follows::\n",
      "\n",
      "        from sklearn.datasets import fetch_california_housing\n",
      "        housing = fetch_california_housing()\n",
      "\n",
      "    for the California housing dataset and::\n",
      "\n",
      "        from sklearn.datasets import fetch_openml\n",
      "        housing = fetch_openml(name=\"house_prices\", as_frame=True)\n",
      "\n",
      "    for the Ames housing dataset.\n",
      "  warnings.warn(msg, category=FutureWarning)\n"
     ]
    },
    {
     "data": {
      "image/png": "[encoded data removed]",
      "text/plain": [
       "<Figure size 640x480 with 1 Axes>"
      ]
     },
     "metadata": {},
     "output_type": "display_data"
    }
   ],
   "source": [
    "boston = load_boston()\n",
    "plt.scatter(boston.data[:, -1], boston.target);"
   ]
  },
  {
   "cell_type": "markdown",
   "metadata": {},
   "source": [
    "Pytorch дает возможность при создании тензора указывать нужно ли считать по нему градиент или нет, с помощью параметра **requires_grad**. Когда **requires_grad=True** мы сообщаем фреймворку, что мы хотим следить за всеми тензорами, которые полуаются из созданного, т.е., у любого тензора, у которого указан данный параметр, будет доступ к цепочке операций и преобразований совершенными с ними. Если эти функции дифференцируемые, то у тензора появляется параметр  **.grad**, в котором хранится значение градиента.   "
   ]
  },
  {
   "cell_type": "markdown",
   "metadata": {},
   "source": [
    "Если к результирующему тензору применить метод **.backward()**, то фреймворк посчитатет по цепочке градиенту для всех тензоров, у которых **requires_grad=True**."
   ]
  },
  {
   "cell_type": "markdown",
   "metadata": {},
   "source": [
    "наша линейная регрессия будет такой: w * x + b"
   ]
  },
  {
   "cell_type": "code",
   "execution_count": 33,
   "metadata": {},
   "outputs": [],
   "source": [
    "w = torch.rand(1, requires_grad=True)\n",
    "b = torch.rand(1, requires_grad=True)\n",
    "\n",
    "x = torch.tensor(boston.data[:, -1] / boston.data[:, -1].max(), dtype=torch.float32)\n",
    "y = torch.tensor(boston.target, dtype=torch.float32)\n",
    "\n",
    "# только создали тензоры и в них нет градиентов\n",
    "assert w.grad is None\n",
    "assert b.grad is None"
   ]
  },
  {
   "cell_type": "code",
   "execution_count": 34,
   "metadata": {},
   "outputs": [
    {
     "data": {
      "text/plain": [
       "(torch.Size([1]), torch.Size([1]), torch.Size([506]), torch.Size([506]))"
      ]
     },
     "execution_count": 34,
     "metadata": {},
     "output_type": "execute_result"
    }
   ],
   "source": [
    "# посмотрим размерности\n",
    "w.shape, b.shape, x.shape, y.shape"
   ]
  },
  {
   "cell_type": "code",
   "execution_count": 35,
   "metadata": {},
   "outputs": [],
   "source": [
    "y_pred = w * x + b                      # и опять совершаем операции с тензорами\n",
    "loss = torch.mean((y_pred - y) ** 2)    # совершаем операции с тензорами\n",
    "loss.backward()                         # считаем градиенты"
   ]
  },
  {
   "cell_type": "code",
   "execution_count": 36,
   "metadata": {},
   "outputs": [
    {
     "name": "stdout",
     "output_type": "stream",
     "text": [
      "dL/dw = \n",
      " tensor([-12.0430])\n",
      "dL/db = \n",
      " tensor([-43.7873])\n"
     ]
    }
   ],
   "source": [
    "# сделали операции и посчитали градиенты, значение должно было появиться\n",
    "assert w.grad is not None\n",
    "assert b.grad is not None\n",
    "\n",
    "print(\"dL/dw = \\n\", w.grad)\n",
    "print(\"dL/db = \\n\", b.grad)\n"
   ]
  },
  {
   "cell_type": "markdown",
   "metadata": {},
   "source": [
    "**Ремарка:** для доступа к значениям в тензоре используйте атрибут **.data**:"
   ]
  },
  {
   "cell_type": "code",
   "execution_count": 37,
   "metadata": {},
   "outputs": [
    {
     "data": {
      "text/plain": [
       "tensor([0.0256])"
      ]
     },
     "execution_count": 37,
     "metadata": {},
     "output_type": "execute_result"
    }
   ],
   "source": [
    "w.data"
   ]
  },
  {
   "cell_type": "code",
   "execution_count": 38,
   "metadata": {},
   "outputs": [
    {
     "data": {
      "text/plain": [
       "tensor([1.], dtype=torch.float64, requires_grad=True)"
      ]
     },
     "execution_count": 38,
     "metadata": {},
     "output_type": "execute_result"
    }
   ],
   "source": [
    "w = torch.tensor(np.array([1.0]), requires_grad=True)\n",
    "w"
   ]
  },
  {
   "cell_type": "code",
   "execution_count": 39,
   "metadata": {},
   "outputs": [
    {
     "data": {
      "image/png": "[encoded data removed]",
      "text/plain": [
       "<Figure size 1000x800 with 1 Axes>"
      ]
     },
     "metadata": {},
     "output_type": "display_data"
    },
    {
     "name": "stdout",
     "output_type": "stream",
     "text": [
      "loss =  48.26847820319479\n"
     ]
    }
   ],
   "source": [
    "from IPython.display import clear_output\n",
    "\n",
    "for i in range(300):\n",
    "    y_pred = w * x + b\n",
    "    # делаем полиномиальную регрессию в данном предсказании и посчитать градиенты после\n",
    "    loss = torch.mean((y_pred - y)**2)\n",
    "    loss.backward()\n",
    "\n",
    "    # делаем шаг градиентного спуска с lr = .05\n",
    "    w.data -= 0.05 * w.grad # code\n",
    "    b.data -= 0.05 * b.grad # code\n",
    "\n",
    "    # обнуляем градиенты, чтобы на следующем шаге опять посчитать и не аккумулировать их\n",
    "    w.grad.data.zero_()\n",
    "    b.grad.data.zero_()\n",
    "\n",
    "    # рисуем картинки\n",
    "    if (i + 1) % 5 == 0:\n",
    "        clear_output(True)\n",
    "        plt.figure(figsize=(10,8))\n",
    "        plt.scatter(x.data.numpy(), y.data.numpy(), label=\"data\")\n",
    "        plt.scatter(x.data.numpy(), y_pred.data.numpy(), color=\"orange\", linewidth=5, label=\"predictions\")\n",
    "        plt.xlabel(\"LSTAT\", fontsize=14)\n",
    "        plt.ylabel(\"MEDV (target)\", fontsize=14)\n",
    "        plt.title(\"Boston modeling\", fontsize=18)\n",
    "        plt.legend(fontsize=14)\n",
    "        plt.show()\n",
    "\n",
    "        print(\"loss = \", loss.data.numpy())\n",
    "        if loss.data.numpy() < 0.1:\n",
    "            print(\"Done!\")\n",
    "            break\n"
   ]
  },
  {
   "cell_type": "markdown",
   "metadata": {},
   "source": [
    "4 **Пишем нейросеть**\n",
    "\n",
    "Чтобы разобраться как обучать нейросети в Pytorch нужно понять три вещи:\n",
    "1. Как формировать батчи и пихать их в сетку\n",
    "2. Как сделать сетку\n",
    "3. Как написать цикл обучения и отслеживать метрики\n",
    "\n",
    "**Как формировать батчи подавать их на вход нейросети**\n",
    "\n",
    "Чтобы в данном фреймворке иметь возможность итерироваться по данным и применять к ним преобразования, аугментации, о которых будет позже инфа, нужно создать свой класс унаследованный от **torch.utils.data.Dataset**.\n",
    "\n",
    "Пример из документации:\n",
    "    \n",
    "    class FaceLandmarksDataset(torch.utils.data.Dataset):\n",
    "    \"\"\"Face Landmarks dataset.\"\"\"\n",
    "\n",
    "        def __init__(self, csv_file, root_dir, transform=None):\n",
    "        \"\"\"\n",
    "        Args:\n",
    "            csv_file (string): Path to the csv file with annotations.\n",
    "            root_dir (string): Directory with all the images.\n",
    "            transform (callable, optional): Optional transform to be applied\n",
    "                on a sample.\n",
    "        \"\"\"\n",
    "        self.landmarks_frame = pd.read_csv(csv_file)\n",
    "        self.root_dir = root_dir\n",
    "        self.transform = transform\n",
    "\n",
    "    def __len__(self):\n",
    "        return len(self.landmarks_frame)\n",
    "    \n",
    "    def __getitem__(self, idx):\n",
    "        if torch.is_tensor(idx):\n",
    "            idx = idx.tolist()\n",
    "        \n",
    "        img_name = os.path.join(self.root_dir, self.landmarks_frame.iloc[idx, 0])\n",
    "        image = io.imread(img_name)\n",
    "        landmarks = self.landmarks_frame.iloc[idx, 1:]\n",
    "        landmarks = np.array([landmarks])\n",
    "        landmarks = landmarks.astype('float').reshape(-1, 2)\n",
    "        sample = {'image': image, 'landmarks': landmarks}\n",
    "\n",
    "        if self.transform:\n",
    "            sample = self.transform(sample)\n",
    "        \n",
    "        return sample"
   ]
  },
  {
   "cell_type": "markdown",
   "metadata": {},
   "source": [
    "Как видно из примера выше, у каждого класса **должно быть два метода**:\n",
    "\n",
    "- **__len__** -- возвращает инфу о том, сколько объектов у нас в датасете\n",
    "- **__getitem** -- возвращает семпл и таргет к нему\n",
    "\n",
    "Теперь напишем код самостоятельно и в качестве датасета сгенерируем рандомные данные"
   ]
  },
  {
   "cell_type": "code",
   "execution_count": 40,
   "metadata": {},
   "outputs": [],
   "source": [
    "class RandomDataset(torch.utils.data.Dataset):\n",
    "    \"\"\"\n",
    "    Our random dataset\n",
    "    \"\"\"\n",
    "    def __init__(self, x, y):\n",
    "        self.x = x\n",
    "        self.y = y\n",
    "    \n",
    "    def __len__(self):\n",
    "        return len(self.x)\n",
    "    \n",
    "    def __getitem__(self, idx):\n",
    "        return {\"sample\": torch.tensor(x[idx, :], dtype=torch.float), \"target\": y[idx]}"
   ]
  },
  {
   "cell_type": "code",
   "execution_count": 41,
   "metadata": {},
   "outputs": [],
   "source": [
    "x = np.random.rand(1000, 5)\n",
    "y = np.random.rand(1000)"
   ]
  },
  {
   "cell_type": "code",
   "execution_count": 42,
   "metadata": {},
   "outputs": [],
   "source": [
    "our_dataset = RandomDataset(x, y)"
   ]
  },
  {
   "cell_type": "code",
   "execution_count": 43,
   "metadata": {},
   "outputs": [
    {
     "data": {
      "text/plain": [
       "{'sample': tensor([0.0135, 0.3212, 0.2655, 0.9061, 0.7476]),\n",
       " 'target': 0.8168886553462912}"
      ]
     },
     "execution_count": 43,
     "metadata": {},
     "output_type": "execute_result"
    }
   ],
   "source": [
    "our_dataset.__getitem__(1)"
   ]
  },
  {
   "cell_type": "markdown",
   "metadata": {},
   "source": [
    "Для того чтобы из данных получать батчи в pytorch используется такая сущность как даталоадер, который принимает на вход класс унаследованный от **torch.utils.data.Dataset**. Пример:"
   ]
  },
  {
   "cell_type": "code",
   "execution_count": 44,
   "metadata": {},
   "outputs": [],
   "source": [
    "dataloader = torch.utils.data.DataLoader(our_dataset, batch_size=4)"
   ]
  },
  {
   "cell_type": "markdown",
   "metadata": {},
   "source": [
    "Работают с ним следующим образом:"
   ]
  },
  {
   "cell_type": "code",
   "execution_count": 45,
   "metadata": {},
   "outputs": [
    {
     "name": "stdout",
     "output_type": "stream",
     "text": [
      "Sample:\n",
      "tensor([[0.9019, 0.4600, 0.9948, 0.6404, 0.6885],\n",
      "        [0.0135, 0.3212, 0.2655, 0.9061, 0.7476],\n",
      "        [0.5400, 0.6861, 0.2651, 0.5651, 0.2330],\n",
      "        [0.0818, 0.2524, 0.1538, 0.3960, 0.6720]])\n",
      "Target:\n",
      "tensor([0.0354, 0.8169, 0.4421, 0.0416], dtype=torch.float64)\n"
     ]
    }
   ],
   "source": [
    "batch = next(iter(dataloader))\n",
    "\n",
    "print(f\"Sample:\\n{batch['sample']}\")\n",
    "print(f\"Target:\\n{batch['target']}\")"
   ]
  },
  {
   "cell_type": "markdown",
   "metadata": {},
   "source": [
    "**Как сделать нейросеть**\n",
    "\n",
    "Для того чтобы в high-level pytorch создавать нейросети используется модуль ``nn``. Нейросеть должна быть унаследована от класса ``nn.Module``. Пример:"
   ]
  },
  {
   "cell_type": "markdown",
   "metadata": {},
   "source": [
    "```\n",
    "class Model(nn.Module):\n",
    "\n",
    "    def __init__(self):\n",
    "        super(Model, self).__init__()\n",
    "        self.conv1 = nn.Conv2d(1, 20, 5)\n",
    "        self.conv2 = nn.Conv2(20, 20, 5)\n",
    "    \n",
    "    def forward(self, x):\n",
    "        x = F.relu(self.conv1(x))\n",
    "        return F.relu(self.conv2(x))\n",
    "```"
   ]
  },
  {
   "cell_type": "markdown",
   "metadata": {},
   "source": [
    "Как мы видим на примере, у данного класса должен быть метод ``forward``, который определяет прямой проход нейросети. Также из класса выше видно, что модуль ``nn`` содержит в себереализацию большинства слоев, а модуль ``nn.functional`` -- функций активаций.\n",
    "\n",
    "Есть еще один способ создать нейросеть, пример:"
   ]
  },
  {
   "cell_type": "code",
   "execution_count": 46,
   "metadata": {},
   "outputs": [],
   "source": [
    "model = nn.Sequential()                     # создаем пустую модель, в которую будем добавлять слои\n",
    "model.add_module(\"l1\", nn.Linear(5, 10))    # добавили слой с 5-ю нейронами на вход и 10 на выход\n",
    "model.add_module(\"l2\", nn.ReLU())           # добавили функцию активации\n",
    "model.add_module(\"l3\", nn.Linear(10, 1))    # добавили слой с 10-мя нейронами на вход и 1-й на выход\n",
    "\n",
    "\n",
    "# another way\n",
    "another_model = nn.Sequential(\n",
    "    nn.Linear(5, 10),\n",
    "    nn.ReLU(),\n",
    "    nn.Linear(10, 1)\n",
    ")"
   ]
  },
  {
   "cell_type": "code",
   "execution_count": 47,
   "metadata": {},
   "outputs": [],
   "source": [
    "y_pred = model(batch['sample'])     #получили предсказание модели"
   ]
  },
  {
   "cell_type": "code",
   "execution_count": 48,
   "metadata": {},
   "outputs": [
    {
     "data": {
      "text/plain": [
       "tensor([[-0.2762],\n",
       "        [-0.1218],\n",
       "        [-0.2247],\n",
       "        [-0.1491]], grad_fn=<AddmmBackward0>)"
      ]
     },
     "execution_count": 48,
     "metadata": {},
     "output_type": "execute_result"
    }
   ],
   "source": [
    "y_pred"
   ]
  },
  {
   "cell_type": "code",
   "execution_count": 49,
   "metadata": {},
   "outputs": [
    {
     "data": {
      "text/plain": [
       "torch.Size([4, 1])"
      ]
     },
     "execution_count": 49,
     "metadata": {},
     "output_type": "execute_result"
    }
   ],
   "source": [
    "y_pred.shape"
   ]
  },
  {
   "cell_type": "markdown",
   "metadata": {},
   "source": [
    "в строке выше [4, 1] у нас 4 batch и 1 выход = предсказание, которое введено выше nn.Linear (10, 1), где один это выход = кол-во предсказаний, для задачи (предсказать стоимость дома = один выход = цена дома) это адекватно, но если у нас задача классификации с несколькими выходами, число соответственно меняем на большее (необходимое)"
   ]
  },
  {
   "cell_type": "markdown",
   "metadata": {},
   "source": [
    "**Как написать цикл обучения и отслеживать метрики**\n",
    "\n",
    "Соберем загрузку данных, создание модели и обучим на уже созданном датасете."
   ]
  },
  {
   "cell_type": "code",
   "execution_count": 50,
   "metadata": {},
   "outputs": [],
   "source": [
    "# используем готовый класс от торча для загрузки данных для тренировки\n",
    "\n",
    "mnist_train = torchvision.datasets.MNIST(\n",
    "    \"./mnist/\",\n",
    "    train=True,\n",
    "    download=True,\n",
    "    transform=torchvision.transforms.ToTensor()\n",
    ")\n",
    "mnist_val = torchvision.datasets.MNIST(\n",
    "    \"./mnist/\",\n",
    "    train=False,\n",
    "    download=True,\n",
    "    transform=torchvision.transforms.ToTensor()\n",
    ")\n",
    "\n",
    "# так как это уже унаследованный от Dataset класс, его можно сразу обернуть в даталоадер\n",
    "\n",
    "train_dataloader = torch.utils.data.DataLoader(\n",
    "    mnist_train,\n",
    "    batch_size=4,\n",
    "    shuffle=True,\n",
    "    num_workers=1\n",
    ")\n",
    "\n",
    "val_dataloader = torch.utils.data.DataLoader(\n",
    "    mnist_val,\n",
    "    batch_size=4,\n",
    "    shuffle=True,\n",
    "    num_workers=1\n",
    ")"
   ]
  },
  {
   "cell_type": "code",
   "execution_count": 51,
   "metadata": {},
   "outputs": [
    {
     "data": {
      "image/png": "[encoded data removed]",
      "text/plain": [
       "<Figure size 640x480 with 2 Axes>"
      ]
     },
     "metadata": {},
     "output_type": "display_data"
    }
   ],
   "source": [
    "for i in [0, 1]:\n",
    "    plt.subplot(1, 2, i + 1)\n",
    "    plt.imshow(mnist_train[i][0].squeeze(0).numpy().reshape([28, 28]))\n",
    "    plt.title(str(mnist_train[i][1]))\n",
    "plt.show()"
   ]
  },
  {
   "cell_type": "code",
   "execution_count": 52,
   "metadata": {},
   "outputs": [],
   "source": [
    "model = nn.Sequential(\n",
    "    nn.Flatten(),               # превращаем картинку 28х28 в вектор размером 784\n",
    "    nn.Linear(28 * 28, 128),    # линейный слой, преобразующий вектор размера 784 в вектор размера 128\n",
    "    nn.ReLU(),                  # нелинейность (релу)\n",
    "    nn.Linear(128, 10),         # линейный слой, преобразующий вектор размера 128 в вектор размера 10\n",
    ")\n",
    "\n",
    "# создаем оптимизатор, который будет добавлять веса модели\n",
    "optimizer = torch.optim.SGD(model.parameters(), lr=0.05)"
   ]
  },
  {
   "cell_type": "markdown",
   "metadata": {},
   "source": [
    "Веса моделей хранятся в виде матриц следующим образом:"
   ]
  },
  {
   "cell_type": "code",
   "execution_count": 53,
   "metadata": {},
   "outputs": [
    {
     "data": {
      "text/plain": [
       "[('1.weight',\n",
       "  Parameter containing:\n",
       "  tensor([[ 9.8906e-05, -3.4005e-02, -7.4666e-03,  ..., -1.4837e-02,\n",
       "           -9.6901e-03,  2.8949e-02],\n",
       "          [ 2.9418e-02, -3.2281e-02, -1.9096e-02,  ...,  3.6868e-03,\n",
       "           -1.3182e-02, -1.8033e-02],\n",
       "          [-3.5607e-02, -2.3028e-02,  6.5623e-03,  ..., -1.0307e-02,\n",
       "           -2.4874e-02, -1.1138e-03],\n",
       "          ...,\n",
       "          [-1.7067e-02, -2.8612e-02,  3.0471e-02,  ..., -3.2429e-02,\n",
       "           -1.9042e-02,  2.0329e-02],\n",
       "          [-2.7441e-02, -8.9075e-03,  2.6863e-02,  ...,  3.4003e-02,\n",
       "           -2.9870e-03,  2.6333e-02],\n",
       "          [ 3.3138e-02, -8.6230e-03, -2.9797e-03,  ...,  1.2057e-02,\n",
       "            1.8887e-02, -8.1664e-03]], requires_grad=True)),\n",
       " ('1.bias',\n",
       "  Parameter containing:\n",
       "  tensor([ 5.7434e-04,  6.7354e-03,  6.0527e-03,  6.7182e-03, -1.2929e-03,\n",
       "          -1.4605e-02,  2.0807e-02,  1.8996e-02,  3.0709e-02, -2.2066e-02,\n",
       "          -3.6807e-03,  3.4258e-02,  1.5277e-02, -3.3342e-02, -8.2950e-03,\n",
       "          -2.4448e-02,  1.9348e-02, -1.2786e-02, -1.7096e-03,  3.5219e-02,\n",
       "           2.4844e-02,  3.4654e-02,  3.4700e-02, -2.5759e-02, -2.3713e-03,\n",
       "          -1.6252e-02, -1.8427e-02, -8.4814e-03,  2.5585e-02, -2.9885e-02,\n",
       "          -2.3226e-02,  1.9339e-02, -1.5954e-03,  1.6512e-02,  1.9124e-02,\n",
       "          -5.4287e-03,  2.3151e-02,  1.9979e-02, -2.6715e-03,  8.0557e-03,\n",
       "           1.9804e-02, -9.3148e-03,  3.3097e-02, -3.2664e-02,  1.9047e-02,\n",
       "           3.1304e-02,  9.0422e-03,  3.2845e-02,  2.4855e-02,  1.9448e-02,\n",
       "           1.0245e-02,  1.1600e-02,  1.8195e-02, -1.1860e-02,  2.2829e-02,\n",
       "           1.8249e-02, -3.0225e-03, -2.8523e-02, -7.7537e-03,  5.8966e-03,\n",
       "           1.8589e-02, -1.4681e-02, -2.7431e-02, -5.3435e-03, -2.7822e-02,\n",
       "           1.1145e-02, -3.4557e-02, -1.2867e-02, -1.9852e-05,  2.5405e-03,\n",
       "           2.9481e-02, -2.3437e-02, -2.5510e-02, -1.9077e-02,  3.3776e-02,\n",
       "          -3.2430e-02, -1.3852e-02, -3.0218e-02,  3.1885e-02, -1.4302e-02,\n",
       "           3.0583e-02, -3.0196e-02, -1.4563e-02,  8.6303e-03,  8.3256e-03,\n",
       "           1.9812e-02, -7.1547e-03, -3.2802e-03,  4.3846e-03, -7.3144e-03,\n",
       "          -1.9667e-02,  2.1768e-02, -1.6487e-02, -3.4527e-02,  3.2212e-02,\n",
       "          -3.5581e-02,  5.7606e-03, -2.6030e-02, -2.3841e-03, -3.7116e-03,\n",
       "          -3.0865e-02, -1.7263e-02,  3.4556e-02,  9.8967e-04,  3.3391e-02,\n",
       "           2.1144e-02, -9.5503e-03,  8.8029e-03,  1.8402e-02, -3.5801e-03,\n",
       "           1.2980e-02, -7.2159e-03, -1.7395e-02, -7.2303e-03,  2.1990e-03,\n",
       "          -3.6367e-04,  1.7427e-03, -1.7005e-02,  1.7062e-03, -3.0862e-02,\n",
       "          -3.0446e-02,  3.3524e-02,  1.4640e-02,  8.4209e-03, -4.7251e-03,\n",
       "           2.1191e-02,  3.9730e-03,  2.2724e-02], requires_grad=True)),\n",
       " ('3.weight',\n",
       "  Parameter containing:\n",
       "  tensor([[-0.0852, -0.0571, -0.0199,  ...,  0.0201, -0.0836,  0.0703],\n",
       "          [-0.0286,  0.0883, -0.0160,  ...,  0.0360,  0.0303, -0.0593],\n",
       "          [-0.0690,  0.0497, -0.0134,  ..., -0.0709, -0.0710, -0.0071],\n",
       "          ...,\n",
       "          [ 0.0863,  0.0609,  0.0565,  ..., -0.0199,  0.0487,  0.0550],\n",
       "          [ 0.0292,  0.0816,  0.0809,  ..., -0.0478,  0.0310,  0.0237],\n",
       "          [ 0.0042, -0.0203,  0.0008,  ..., -0.0527,  0.0160, -0.0260]],\n",
       "         requires_grad=True)),\n",
       " ('3.bias',\n",
       "  Parameter containing:\n",
       "  tensor([-0.0807,  0.0195,  0.0241,  0.0613,  0.0280, -0.0827,  0.0141,  0.0741,\n",
       "           0.0389,  0.0870], requires_grad=True))]"
      ]
     },
     "execution_count": 53,
     "metadata": {},
     "output_type": "execute_result"
    }
   ],
   "source": [
    "[x for x in model.named_parameters()]"
   ]
  },
  {
   "cell_type": "markdown",
   "metadata": {},
   "source": [
    "Трекать метрики в полуавтоматическом режиме на wandb. "
   ]
  },
  {
   "cell_type": "code",
   "execution_count": 54,
   "metadata": {},
   "outputs": [
    {
     "name": "stderr",
     "output_type": "stream",
     "text": [
      "\u001b[34m\u001b[1mwandb\u001b[0m: Currently logged in as: \u001b[33mmarkbeth\u001b[0m. Use \u001b[1m`wandb login --relogin`\u001b[0m to force relogin\n"
     ]
    },
    {
     "data": {
      "application/vnd.jupyter.widget-view+json": {
       "model_id": "9c2343ac569c492bb7e0a18c5980e35a",
       "version_major": 2,
       "version_minor": 0
      },
      "text/plain": [
       "VBox(children=(Label(value='Waiting for wandb.init()...\\r'), FloatProgress(value=0.016727340966666303, max=1.0…"
      ]
     },
     "metadata": {},
     "output_type": "display_data"
    },
    {
     "data": {
      "text/html": [
       "wandb version 0.13.6 is available!  To upgrade, please run:\n",
       " $ pip install wandb --upgrade"
      ],
      "text/plain": [
       "<IPython.core.display.HTML object>"
      ]
     },
     "metadata": {},
     "output_type": "display_data"
    },
    {
     "data": {
      "text/html": [
       "Tracking run with wandb version 0.13.5"
      ],
      "text/plain": [
       "<IPython.core.display.HTML object>"
      ]
     },
     "metadata": {},
     "output_type": "display_data"
    },
    {
     "data": {
      "text/html": [
       "Run data is saved locally in <code>/Users/anastasiadruzyanova/Documents/pytorch/wandb/run-20221207_163404-1nb8tb04</code>"
      ],
      "text/plain": [
       "<IPython.core.display.HTML object>"
      ]
     },
     "metadata": {},
     "output_type": "display_data"
    },
    {
     "data": {
      "text/html": [
       "Syncing run <strong><a href=\"https://wandb.ai/markbeth/pytorch-demo/runs/1nb8tb04\" target=\"_blank\">devoted-flower-7</a></strong> to <a href=\"https://wandb.ai/markbeth/pytorch-demo\" target=\"_blank\">Weights & Biases</a> (<a href=\"https://wandb.me/run\" target=\"_blank\">docs</a>)<br/>"
      ],
      "text/plain": [
       "<IPython.core.display.HTML object>"
      ]
     },
     "metadata": {},
     "output_type": "display_data"
    }
   ],
   "source": [
    "import wandb\n",
    "wandb.login()\n",
    "wandb.init(project=\"pytorch-demo\")\n",
    "wandb.watch(model);"
   ]
  },
  {
   "cell_type": "code",
   "execution_count": 55,
   "metadata": {},
   "outputs": [
    {
     "data": {
      "application/vnd.jupyter.widget-view+json": {
       "model_id": "2568003772f0482b9509c637ee89908c",
       "version_major": 2,
       "version_minor": 0
      },
      "text/plain": [
       "  0%|          | 0/15000 [00:00<?, ?it/s]"
      ]
     },
     "metadata": {},
     "output_type": "display_data"
    },
    {
     "data": {
      "application/vnd.jupyter.widget-view+json": {
       "model_id": "fc2253259cd6407b9a2777010a081f49",
       "version_major": 2,
       "version_minor": 0
      },
      "text/plain": [
       "  0%|          | 0/2500 [00:00<?, ?it/s]"
      ]
     },
     "metadata": {},
     "output_type": "display_data"
    },
    {
     "name": "stdout",
     "output_type": "stream",
     "text": [
      "Epoch: 0, loss: 0.12077559530735016, accuracy: 0.9641\n"
     ]
    },
    {
     "data": {
      "application/vnd.jupyter.widget-view+json": {
       "model_id": "60ff738b06cc4666a4bb1a8bdb076904",
       "version_major": 2,
       "version_minor": 0
      },
      "text/plain": [
       "  0%|          | 0/15000 [00:00<?, ?it/s]"
      ]
     },
     "metadata": {},
     "output_type": "display_data"
    },
    {
     "data": {
      "application/vnd.jupyter.widget-view+json": {
       "model_id": "f1dda25c0acd401bb7003d14113c18aa",
       "version_major": 2,
       "version_minor": 0
      },
      "text/plain": [
       "  0%|          | 0/15000 [00:00<?, ?it/s]"
      ]
     },
     "metadata": {},
     "output_type": "display_data"
    },
    {
     "data": {
      "application/vnd.jupyter.widget-view+json": {
       "model_id": "a7d86ead7c26477589308dd8b4dd574e",
       "version_major": 2,
       "version_minor": 0
      },
      "text/plain": [
       "  0%|          | 0/2500 [00:00<?, ?it/s]"
      ]
     },
     "metadata": {},
     "output_type": "display_data"
    },
    {
     "name": "stdout",
     "output_type": "stream",
     "text": [
      "Epoch: 2, loss: 0.10078701376914978, accuracy: 0.9694\n"
     ]
    },
    {
     "data": {
      "application/vnd.jupyter.widget-view+json": {
       "model_id": "1b5d4b910421408e8b276de6bf57d9cd",
       "version_major": 2,
       "version_minor": 0
      },
      "text/plain": [
       "  0%|          | 0/15000 [00:00<?, ?it/s]"
      ]
     },
     "metadata": {},
     "output_type": "display_data"
    },
    {
     "data": {
      "application/vnd.jupyter.widget-view+json": {
       "model_id": "8f274a4ae8ca4c8ea58da72ba1a2409e",
       "version_major": 2,
       "version_minor": 0
      },
      "text/plain": [
       "  0%|          | 0/15000 [00:00<?, ?it/s]"
      ]
     },
     "metadata": {},
     "output_type": "display_data"
    },
    {
     "data": {
      "application/vnd.jupyter.widget-view+json": {
       "model_id": "1ae3ca80c589480e8c36d837d8d48a05",
       "version_major": 2,
       "version_minor": 0
      },
      "text/plain": [
       "  0%|          | 0/2500 [00:00<?, ?it/s]"
      ]
     },
     "metadata": {},
     "output_type": "display_data"
    },
    {
     "name": "stdout",
     "output_type": "stream",
     "text": [
      "Epoch: 4, loss: 0.09296617656946182, accuracy: 0.9712\n"
     ]
    }
   ],
   "source": [
    "# всего будет 5 эпох (5 раз подряд пройдемся по всем батчам из трейна)\n",
    "\n",
    "for epoch in range(5):\n",
    "    for x_train, y_train in tqdm(train_dataloader):         # taking batch from train loader\n",
    "        y_pred = model(x_train)                             # making predictions\n",
    "        loss = F.cross_entropy(y_pred, y_train)             # loss counting\n",
    "        loss.backward()                                     # gradient counting with backward smth method\n",
    "        optimizer.step()                                    # network parameter uploading\n",
    "        optimizer.zero_grad()                               # reset to zero counted gradient parameters\n",
    "    \n",
    "    if epoch % 2 == 0:\n",
    "        val_loss = []                                       # here we gonna put mean batch - loss\n",
    "        val_accuracy = []\n",
    "        with torch.no_grad():                               # don't let framework to count gradients using parameters on validation\n",
    "            for x_val, y_val in tqdm(val_dataloader):       # take batch from val loader\n",
    "                y_pred = model(x_val)                       # make predictions\n",
    "                loss = F.cross_entropy(y_pred, y_val)       # count losses\n",
    "                val_loss.append(loss.numpy())               # add an array\n",
    "                val_accuracy.extend((torch.argmax(y_pred, dim=-1) == y_val).numpy().tolist())\n",
    "\n",
    "        #\n",
    "        wandb.log({\"mean val loss\": np.mean(val_loss),\n",
    "                   \"mean val accuracy\": np.mean(val_accuracy)})\n",
    "        \n",
    "        #\n",
    "        print(f\"Epoch: {epoch}, loss: {np.mean(val_loss)}, accuracy: {np.mean(val_accuracy)}\")"
   ]
  }
 ],
 "metadata": {
  "kernelspec": {
   "display_name": "Python 3.9.12 ('base')",
   "language": "python",
   "name": "python3"
  },
  "language_info": {
   "codemirror_mode": {
    "name": "ipython",
    "version": 3
   },
   "file_extension": ".py",
   "mimetype": "text/x-python",
   "name": "python",
   "nbconvert_exporter": "python",
   "pygments_lexer": "ipython3",
   "version": "3.9.12"
  },
  "orig_nbformat": 4,
  "vscode": {
   "interpreter": {
    "hash": "c90f67e2f7e72059bd3b7be85496d36fcd45935ebc6fce4cca811c83693c7c83"
   }
  }
 },
 "nbformat": 4,
 "nbformat_minor": 2
}
